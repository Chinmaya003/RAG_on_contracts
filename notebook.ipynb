{
 "cells": [
  {
   "cell_type": "code",
   "execution_count": null,
   "id": "9b3a90b8-3127-44fc-8fd4-2aee62225f66",
   "metadata": {},
   "outputs": [],
   "source": [
    "!pip install html2text pymupdf4llm torch transformers pandas chromadb "
   ]
  },
  {
   "cell_type": "code",
   "execution_count": 1,
   "id": "867c5a89-4129-474c-b6bf-22455a9cd49d",
   "metadata": {},
   "outputs": [
    {
     "name": "stderr",
     "output_type": "stream",
     "text": [
      "/home/rama/miniforge3/envs/nlp/lib/python3.12/site-packages/tqdm/auto.py:21: TqdmWarning: IProgress not found. Please update jupyter and ipywidgets. See https://ipywidgets.readthedocs.io/en/stable/user_install.html\n",
      "  from .autonotebook import tqdm as notebook_tqdm\n"
     ]
    }
   ],
   "source": [
    "import chromadb\n",
    "import html2text\n",
    "import pymupdf4llm\n",
    "import torch\n",
    "import re\n",
    "import pandas as pd\n",
    "from io import StringIO\n",
    "from transformers import pipeline"
   ]
  },
  {
   "cell_type": "code",
   "execution_count": 2,
   "id": "58752fe7-6528-442f-b3b7-bb1c682ac159",
   "metadata": {},
   "outputs": [],
   "source": [
    "def html_to_markdown(html_path):\n",
    "    with open(html_path, 'r', encoding='utf-8') as html_file:\n",
    "        html_content = html_file.read()\n",
    "    \n",
    "    #\n",
    "    h = html2text.HTML2Text()\n",
    "    h.ignore_links = False  # Set to True if you want to ignore links in the HTML\n",
    "    markdown_content = h.handle(html_content)\n",
    "    \n",
    "    return markdown_content\n",
    "\n",
    "\n",
    "device = 0 if torch.cuda.is_available() else -1\n",
    "qa_pipeline = pipeline(\"question-answering\", model=\"distilbert-base-uncased-distilled-squad\",device=device)\n",
    "\n",
    "fields = {\n",
    "    \"Bid Number\": \"What is the Bid Number or identifier mentioned in the contract or proposal?n\",\n",
    "    \"Title\": \"What is the title or name of the contract or proposal?(mentioned in the cover page)\",\n",
    "    \"Due Date\": \"What is the due date for the submission of bids or responses?a\",\n",
    "    \"Bid Submission Type\": \"How is the bid or proposal submission expected (e.g., online, by mail)?\",\n",
    "    \"Term of Bid\": \"What is the duration or term of the bid or contract? For example, how long is the contract valid?\",\n",
    "    \"Pre Bid Meeting\": \"Does the contract mention any pre-bid meeting or event before submission?\",\n",
    "    \"Installation\": \"Does the contract mention installation or deployment requirements?\",\n",
    "    \"Bid Bond Requirement\": \"Does the contract require a bid bond, deposit, or guarantee?\",\n",
    "    \"Delivery Date\": \"What is the delivery date or schedule mentioned in the contract or proposal?in format dd/mm/yyyy\",\n",
    "    \"Payment Terms\": \"What are the payment terms outlined in the contract? (e.g., installments, milestones, quarterly)\",\n",
    "    \"Any Additional Documentation Required\": \"Are there any additional documents or requirements mentioned for the contract?list them\",\n",
    "    \"MFG for Registration\": \"What is the manufacturer or the entity required for registration or certification?\",\n",
    "    \"Contract or Cooperative to use\": \"Is there any specific contract or cooperative that must be used for this agreement?\",\n",
    "    \"Model No\": \"What is the model number or specific product identifier mentioned in the contract?if multple list each of them in newlines.\",\n",
    "    \"Part No\": \"What is the part number or component ID mentioned in the contract?if multiple list each in a new line.\",\n",
    "    \"Product\": \"What product or type of products is being referenced or requested in the contract?.if multiple list each in newline.\",\n",
    "    \"Contact Info\": \"What contact information is provided for inquiries or support regarding the contract?mention both suppliers and clients\",\n",
    "    \"Company Name\": \"What is the name of the company or organization associated with the contract?\",\n",
    "    \"Bid Summary\": \"What is the summary or general description of the bid or contract provided in the document?\",\n",
    "    \"Product Specification\": \"What are the product specifications, features, or requirements mentioned in the contract?.list for each product.\"\n",
    "}\n",
    "# Function to detect markdown tables\n",
    "def extract_markdown_tables(text):\n",
    "    table_pattern = re.compile(r\"(\\|.+?\\|\\n(\\|[-:]+?\\|\\n)+(\\|.+?\\|\\n)+)\", re.DOTALL)\n",
    "    return table_pattern.findall(text)\n",
    "\n",
    "# Function to parse markdown tables into DataFrames\n",
    "def parse_markdown_table(markdown_table):\n",
    "    table_df = pd.read_csv(StringIO(markdown_table), sep=\"|\", skipinitialspace=True)\n",
    "    return table_df.drop(columns=table_df.columns[[0, -1]])  # Remove empty columns from \"|\"\n",
    "\n",
    "# Function to process mixed content\n",
    "def process_mixed_content(file_content):\n",
    "    # Extract tables\n",
    "    tables = extract_markdown_tables(file_content)\n",
    "    processed_tables = [parse_markdown_table(table[0]) for table in tables]\n",
    "    \n",
    "    # Extract text sections outside tables\n",
    "    text_sections = re.split(r\"(\\|.+?\\|\\n(\\|[-:]+?\\|\\n)+(\\|.+?\\|\\n)+)\", file_content)\n",
    "    text_parts = [\n",
    "        part.strip() for part in text_sections if not part.startswith(\"|\") and part.strip()\n",
    "    ]\n",
    "    \n",
    "    return {\"tables\": processed_tables, \"text\": text_parts}\n",
    "\n",
    "# Function to apply QA pipeline to free text\n",
    "def extract_fields_from_text(text_parts, fields):\n",
    "    results = {}\n",
    "    for text in text_parts:\n",
    "        for field, question in fields.items():\n",
    "            try:\n",
    "                answer = qa_pipeline(question=question, context=text)\n",
    "                results[field] = results.get(field, []) + [answer[\"answer\"]]\n",
    "            except Exception as e:\n",
    "                results[field] = results.get(field, []) + [f\"Error: {str(e)}\"]\n",
    "    return results\n",
    "\n",
    "\n",
    "# Pipeline Execution\n",
    "def mixed_content_pipeline(file_content, fields):\n",
    "    # Step 1: Process content to separate tables and text\n",
    "    processed_content = process_mixed_content(file_content)\n",
    "    \n",
    "    # Step 2: Extract fields from text sections\n",
    "    text_results = extract_fields_from_text(processed_content[\"text\"], fields)\n",
    "    \n",
    "    # Step 3: Only include extracted fields in the output (omit tables)\n",
    "    output = {\n",
    "        \"extracted_fields\": text_results\n",
    "    }\n",
    "    return output\n"
   ]
  },
  {
   "cell_type": "code",
   "execution_count": 4,
   "id": "2dd48252-7fba-4466-bb6f-068e099e70df",
   "metadata": {},
   "outputs": [
    {
     "name": "stdout",
     "output_type": "stream",
     "text": [
      "Processing Bid1/Addendum 1 RFP JA-207652 Student and Staff Computing Devices.pdf...\n",
      "[========================================]\n",
      "Processing Bid1/Addendum 2 RFP JA-207652 Student and Staff Computing Devices.pdf...\n",
      "[========================================]\n",
      "Processing Bid1/JA-207652 Student and Staff Computing Devices FINAL.pdf...\n",
      "[========================================]\n",
      "Pipeline results saved to output/DallasOutput.json\n"
     ]
    }
   ],
   "source": [
    "doc1 = pymupdf4llm.to_markdown('Bid1/Addendum 1 RFP JA-207652 Student and Staff Computing Devices.pdf')\n",
    "doc2 = pymupdf4llm.to_markdown('Bid1/Addendum 2 RFP JA-207652 Student and Staff Computing Devices.pdf')\n",
    "doc3 = pymupdf4llm.to_markdown('Bid1/JA-207652 Student and Staff Computing Devices FINAL.pdf')\n",
    "html_path = 'Bid1/Student and Staff Computing Devices __SOURCING #168884__ - Bid Information - {3} _ BidNet Direct.html'  # Replace with your HTML file path\n",
    "doc4 = html_to_markdown(html_path)\n",
    "\n",
    "data1=doc1+doc2+doc3+doc4\n",
    "\n",
    "output1 = mixed_content_pipeline(data1, fields)\n",
    "import json\n",
    "output_filename = \"output/DallasOutput.json\"\n",
    "with open(output_filename, \"w\") as f:\n",
    "    json.dump(output1, f, indent=4)\n",
    "\n",
    "print(f\"Pipeline results saved to {output_filename}\")"
   ]
  },
  {
   "cell_type": "code",
   "execution_count": 5,
   "id": "6d85f606-132d-44fa-b7f5-04da8f23fe4c",
   "metadata": {},
   "outputs": [
    {
     "name": "stdout",
     "output_type": "stream",
     "text": [
      "Processing Bid2/PORFP_-_Dell_Laptop_Final.pdf...\n",
      "[========================================]\n",
      "Processing Bid2/Contract_Affidavit.pdf...\n",
      "[========================================]\n",
      "Processing Bid2/Dell_Laptop_Specs.pdf...\n",
      "[========================================]\n",
      "Processing Bid2/Mercury_Affidavit.pdf...\n",
      "[========================================]\n",
      "Pipeline results saved to output/DellOutput.json\n"
     ]
    }
   ],
   "source": [
    "doc1 = pymupdf4llm.to_markdown('Bid2/PORFP_-_Dell_Laptop_Final.pdf')\n",
    "doc2 = pymupdf4llm.to_markdown('Bid2/Contract_Affidavit.pdf')\n",
    "doc3 = pymupdf4llm.to_markdown('Bid2/Dell_Laptop_Specs.pdf')\n",
    "doc4 = pymupdf4llm.to_markdown('Bid2/Mercury_Affidavit.pdf')\n",
    "html_path = 'Bid2/Dell Laptops w_Extended Warranty - Bid Information - {3} _ BidNet Direct.html'  \n",
    "doc5 = html_to_markdown(html_path)\n",
    "\n",
    "data2=doc1+doc2+doc3+doc4+doc5\n",
    "\n",
    "output2 = mixed_content_pipeline(data2, fields)\n",
    "\n",
    "import json\n",
    "output_filename = \"output/DellOutput.json\"\n",
    "with open(output_filename, \"w\") as f:\n",
    "    json.dump(output2, f, indent=4)\n",
    "\n",
    "print(f\"Pipeline results saved to {output_filename}\")"
   ]
  },
  {
   "cell_type": "code",
   "execution_count": null,
   "id": "acd93fcb-a117-406f-8f22-d124e0ea40e8",
   "metadata": {},
   "outputs": [],
   "source": []
  }
 ],
 "metadata": {
  "kernelspec": {
   "display_name": "Python 3 (ipykernel)",
   "language": "python",
   "name": "python3"
  },
  "language_info": {
   "codemirror_mode": {
    "name": "ipython",
    "version": 3
   },
   "file_extension": ".py",
   "mimetype": "text/x-python",
   "name": "python",
   "nbconvert_exporter": "python",
   "pygments_lexer": "ipython3",
   "version": "3.12.7"
  }
 },
 "nbformat": 4,
 "nbformat_minor": 5
}
